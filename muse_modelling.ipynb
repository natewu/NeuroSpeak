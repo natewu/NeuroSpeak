{
 "cells": [
  {
   "cell_type": "code",
   "execution_count": 13,
   "id": "2023347d",
   "metadata": {},
   "outputs": [
    {
     "name": "stdout",
     "output_type": "stream",
     "text": [
      "         timestamps     TP9      AF7      AF8     TP10  Right AUX direction\n",
      "0      1.700338e+09 -10.254   28.809   21.484   -9.277        0.0      left\n",
      "1      1.700338e+09 -83.984 -458.496 -333.984 -126.953        0.0      left\n",
      "2      1.700338e+09 -25.391 -720.703 -399.414  -46.387        0.0      left\n",
      "3      1.700338e+09  52.246 -321.777 -200.195   76.660        0.0      left\n",
      "4      1.700338e+09  11.719 -211.914 -211.426   23.438        0.0      left\n",
      "...             ...     ...      ...      ...      ...        ...       ...\n",
      "88627  1.700338e+09   0.000 -397.461    0.000  -85.449        0.0       top\n",
      "88628  1.700338e+09   0.000 -798.340    0.000  -81.543        0.0       top\n",
      "88629  1.700338e+09   0.000    7.324    0.000    4.883        0.0       top\n",
      "88630  1.700338e+09   0.000  420.898    0.000   24.902        0.0       top\n",
      "88631  1.700338e+09   0.000 -185.547    0.000  -62.988        0.0       top\n",
      "\n",
      "[88632 rows x 7 columns]\n"
     ]
    }
   ],
   "source": [
    "import pandas as pd\n",
    "\n",
    "# List of CSV files\n",
    "csv_files = [\"eeg_left.csv\", \"eeg_right.csv\", \"eeg_top.csv\"]\n",
    "\n",
    "# List of corresponding meta values\n",
    "direction_values = [\"left\", \"right\", \"top\"]\n",
    "\n",
    "# Create an empty DataFrame\n",
    "result_df = pd.DataFrame()\n",
    "\n",
    "# Iterate through CSV files and meta values\n",
    "for csv_file, direction_value in zip(csv_files, direction_values):\n",
    "    # Read CSV file into a DataFrame\n",
    "    df = pd.read_csv(csv_file)\n",
    "\n",
    "    # Add a new column 'direction' with the corresponding value\n",
    "    df[\"direction\"] = direction_value\n",
    "\n",
    "    # Concatenate the current DataFrame with the result DataFrame\n",
    "    result_df = pd.concat([result_df, df], ignore_index=True)\n",
    "\n",
    "# Display the resulting DataFrame\n",
    "print(result_df)"
   ]
  },
  {
   "cell_type": "code",
   "execution_count": null,
   "id": "966cd6e7",
   "metadata": {},
   "outputs": [],
   "source": [
    "import pandas as pd\n",
    "import numpy as np\n",
    "from tslearn.preprocessing import TimeSeriesScalerMinMax\n",
    "from tslearn.utils import to_time_series_dataset\n",
    "from tslearn.shapelets import ShapeletModel\n",
    "from sklearn.model_selection import train_test_split\n",
    "from sklearn.metrics import accuracy_score\n",
    "\n",
    "# Assuming you have a DataFrame named df with columns [\"direction\", \"TP9\", \"AF7\", \"AF8\", \"TP10\"]\n",
    "# Parameters\n",
    "epoch_length = 50\n",
    "\n",
    "# Function to preprocess the data and create time series epochs\n",
    "def preprocess_data(df, epoch_length):\n",
    "    time_series_fragments = []\n",
    "    labels = []\n",
    "\n",
    "    for direction in df[\"direction\"].unique():\n",
    "        eeg_data_direction = df[df[\"direction\"] == direction][[\"TP9\", \"AF7\", \"AF8\", \"TP10\"]].values\n",
    "        total_epochs = len(eeg_data_direction) // epoch_length\n",
    "\n",
    "        eeg_epochs = [eeg_data_direction[i * epoch_length: (i + 1) * epoch_length] for i in range(total_epochs)]\n",
    "\n",
    "        time_series_fragments.extend(eeg_epochs)\n",
    "        labels.extend([direction] * total_epochs)\n",
    "\n",
    "    # Convert the list of epochs to a time series dataset\n",
    "    time_series_dataset = to_time_series_dataset(time_series_fragments)\n",
    "\n",
    "    # If needed, you can also normalize the time series data\n",
    "    scaler = TimeSeriesScalerMinMax()\n",
    "    time_series_dataset_scaled = scaler.fit_transform(time_series_dataset)\n",
    "\n",
    "    return time_series_dataset_scaled, np.array(labels)\n"
   ]
  },
  {
   "cell_type": "code",
   "execution_count": null,
   "id": "67e6cc4e",
   "metadata": {},
   "outputs": [],
   "source": [
    "# Preprocess the data\n",
    "X, y = preprocess_data(df, epoch_length)\n",
    "\n",
    "# Split the data into training and testing sets\n",
    "X_train, X_test, y_train, y_test = train_test_split(X, y, test_size=0.3, random_state=42)\n",
    "\n",
    "# Build a simple Shapelet model (you can experiment with other classifiers in tslearn)\n",
    "model = ShapeletModel(n_shapelets_per_size={5: 10}, optimizer=\"sgd\", weight_regularizer=.01, max_iter=100)\n",
    "\n",
    "# Fit the model\n",
    "model.fit(X_train, y_train)\n",
    "\n",
    "# Make predictions on the test set\n",
    "y_pred = model.predict(X_test)\n",
    "\n",
    "# Evaluate the accuracy\n",
    "accuracy = accuracy_score(y_test, y_pred)\n",
    "print(\"Accuracy:\", accuracy)"
   ]
  }
 ],
 "metadata": {
  "kernelspec": {
   "display_name": "Python 3 (ipykernel)",
   "language": "python",
   "name": "python3"
  },
  "language_info": {
   "codemirror_mode": {
    "name": "ipython",
    "version": 3
   },
   "file_extension": ".py",
   "mimetype": "text/x-python",
   "name": "python",
   "nbconvert_exporter": "python",
   "pygments_lexer": "ipython3",
   "version": "3.9.18"
  }
 },
 "nbformat": 4,
 "nbformat_minor": 5
}
